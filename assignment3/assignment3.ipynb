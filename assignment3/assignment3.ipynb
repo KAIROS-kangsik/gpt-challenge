{
 "cells": [
  {
   "cell_type": "code",
   "execution_count": 50,
   "metadata": {},
   "outputs": [
    {
     "name": "stdout",
     "output_type": "stream",
     "text": [
      "input_variables=['emojis', 'movie'] messages=[SystemMessagePromptTemplate(prompt=PromptTemplate(input_variables=[], template='You are a machine that takes the name of the movie and makes three emojis that can represent the movie')), HumanMessagePromptTemplate(prompt=PromptTemplate(input_variables=['movie'], template='{movie}')), AIMessagePromptTemplate(prompt=PromptTemplate(input_variables=['emojis'], template='{emojis}'))]\n"
     ]
    }
   ],
   "source": [
    "from langchain.chat_models import ChatOpenAI\n",
    "from langchain.prompts.few_shot import FewShotChatMessagePromptTemplate\n",
    "from langchain.prompts import ChatPromptTemplate, MessagesPlaceholder\n",
    "from langchain.memory import ConversationSummaryBufferMemory\n",
    "from langchain.schema.runnable import RunnablePassthrough\n",
    "\n",
    "chat = ChatOpenAI(temperature=0.1)\n",
    "\n",
    "examples = [\n",
    "    {\"movie\": \"탑건\", \"emojis\": \"🛩️👨‍✈️🔥\"},\n",
    "    {\"movie\": \"대부\", \"emojis\": \"👨‍👨‍👦🔫🍝\"},\n",
    "    {\"movie\": \"해리포터\", \"emojis\": \"🧙‍♂️🪄🏰\"},\n",
    "    {\"movie\": \"타이타닉\", \"emojis\": \"🚢💔🌊\"},\n",
    "    {\"movie\": \"매트릭스\", \"emojis\": \"💊🕶️💻\"},\n",
    "    {\"movie\": \"스타워즈\", \"emojis\": \"🌌🚀🧔\"},\n",
    "    {\"movie\": \"어벤져스\", \"emojis\": \"🦸‍♂️🦸‍♀️🌍\"},\n",
    "    {\"movie\": \"인셉션\", \"emojis\": \"🌀🛌🕰️\"},\n",
    "    {\"movie\": \"쥬라기 공원\", \"emojis\": \"🦖🌴🚁\"},\n",
    "    {\"movie\": \"라라랜드\", \"emojis\": \"🎹💃🌆\"}\n",
    "]\n",
    "\n",
    "memory = ConversationSummaryBufferMemory(\n",
    "    llm=chat,\n",
    "    max_token_limit=50,\n",
    "    memory_key=\"history\",\n",
    "    return_messages=True,\n",
    ")\n",
    "\n",
    "example_prompt = ChatPromptTemplate.from_messages([\n",
    "    (\"system\", \"You are a machine that takes the name of the movie and makes three emojis that can represent the movie\"),\n",
    "    # MessagesPlaceholder(variable_name=\"history\"),\n",
    "    (\"human\", \"{movie}\"),\n",
    "    (\"ai\", \"{emojis}\")\n",
    "])\n",
    "print(example_prompt)\n",
    "\n"
   ]
  },
  {
   "cell_type": "markdown",
   "metadata": {},
   "source": [
    "```python\n",
    "import typing\n",
    "from langchain.schema.messages import (\n",
    "    AIMessage,\n",
    "    HumanMessage,\n",
    "    ChatMessage,\n",
    "    SystemMessage,\n",
    "    FunctionMessage\n",
    ")\n",
    "\n",
    "input_variables = [\"emojis\", \"history\", \"movie\"]\n",
    "\n",
    "input_types = {\n",
    "    \"history\": typing.List[\n",
    "        typing.Union[\n",
    "            AIMessage,\n",
    "            HumanMessage,\n",
    "            ChatMessage,\n",
    "            SystemMessage,\n",
    "            FunctionMessage\n",
    "        ]\n",
    "    ]\n",
    "}\n",
    "\n",
    "messages = [\n",
    "    SystemMessagePromptTemplate(\n",
    "        prompt=PromptTemplate(\n",
    "            input_variables=[],\n",
    "            template=\"You are a machine that takes the name of the movie and makes three emojis that can represent the movie\"\n",
    "        )\n",
    "    ),\n",
    "    MessagesPlaceholder(variable_name=\"history\"),\n",
    "    HumanMessagePromptTemplate(\n",
    "        prompt=PromptTemplate(\n",
    "            input_variables=[\"movie\"],\n",
    "            template=\"{movie}\"\n",
    "        )\n",
    "    ),\n",
    "    AIMessagePromptTemplate(\n",
    "        prompt=PromptTemplate(\n",
    "            input_variables=[\"emojis\"],\n",
    "            template=\"{emojis}\"\n",
    "        )\n",
    "    )\n",
    "]\n",
    "\n",
    "```\n"
   ]
  },
  {
   "cell_type": "code",
   "execution_count": 51,
   "metadata": {},
   "outputs": [
    {
     "name": "stdout",
     "output_type": "stream",
     "text": [
      "examples=[{'movie': '탑건', 'emojis': '🛩️👨\\u200d✈️🔥'}, {'movie': '대부', 'emojis': '👨\\u200d👨\\u200d👦🔫🍝'}, {'movie': '해리포터', 'emojis': '🧙\\u200d♂️🪄🏰'}, {'movie': '타이타닉', 'emojis': '🚢💔🌊'}, {'movie': '매트릭스', 'emojis': '💊🕶️💻'}, {'movie': '스타워즈', 'emojis': '🌌🚀🧔'}, {'movie': '어벤져스', 'emojis': '🦸\\u200d♂️🦸\\u200d♀️🌍'}, {'movie': '인셉션', 'emojis': '🌀🛌🕰️'}, {'movie': '쥬라기 공원', 'emojis': '🦖🌴🚁'}, {'movie': '라라랜드', 'emojis': '🎹💃🌆'}] input_variables=['movie'] example_prompt=ChatPromptTemplate(input_variables=['emojis', 'movie'], messages=[SystemMessagePromptTemplate(prompt=PromptTemplate(input_variables=[], template='You are a machine that takes the name of the movie and makes three emojis that can represent the movie')), HumanMessagePromptTemplate(prompt=PromptTemplate(input_variables=['movie'], template='{movie}')), AIMessagePromptTemplate(prompt=PromptTemplate(input_variables=['emojis'], template='{emojis}'))])\n"
     ]
    }
   ],
   "source": [
    "fewshot_template = FewShotChatMessagePromptTemplate(\n",
    "    examples=examples,\n",
    "    example_prompt=example_prompt,\n",
    "    input_variables=[\"movie\"]\n",
    ")\n",
    "\n",
    "print(fewshot_template)"
   ]
  },
  {
   "cell_type": "code",
   "execution_count": 52,
   "metadata": {},
   "outputs": [],
   "source": [
    "def load_memory(_):\n",
    "    return memory.load_memory_variables({})[\"history\"]\n",
    "\n",
    "chain = RunnablePassthrough.assign(history=load_memory) | fewshot_template | chat\n",
    "\n",
    "def invoke_chain(movie):\n",
    "    result = chain.invoke({\n",
    "        \"movie\": movie,\n",
    "    })\n",
    "    memory.save_context({\"input\":movie}, {\"output\":result.content})\n",
    "    print(result)"
   ]
  },
  {
   "cell_type": "code",
   "execution_count": 53,
   "metadata": {},
   "outputs": [
    {
     "name": "stdout",
     "output_type": "stream",
     "text": [
      "content='🎶🌟🌆'\n"
     ]
    }
   ],
   "source": [
    "invoke_chain(\"신과함께\")"
   ]
  },
  {
   "cell_type": "code",
   "execution_count": 54,
   "metadata": {},
   "outputs": [
    {
     "name": "stdout",
     "output_type": "stream",
     "text": [
      "content='🎶🎭🌟'\n"
     ]
    }
   ],
   "source": [
    "invoke_chain(\"비긴어게인\")"
   ]
  },
  {
   "cell_type": "code",
   "execution_count": 55,
   "metadata": {},
   "outputs": [
    {
     "data": {
      "text/plain": [
       "{'history': [SystemMessage(content='The human mentions \"신과함께.\"'),\n",
       "  AIMessage(content='🎶🌟🌆'),\n",
       "  HumanMessage(content='비긴어게인'),\n",
       "  AIMessage(content='🎶🎭🌟')]}"
      ]
     },
     "execution_count": 55,
     "metadata": {},
     "output_type": "execute_result"
    }
   ],
   "source": [
    "memory.load_memory_variables({})"
   ]
  }
 ],
 "metadata": {
  "kernelspec": {
   "display_name": "env",
   "language": "python",
   "name": "python3"
  },
  "language_info": {
   "codemirror_mode": {
    "name": "ipython",
    "version": 3
   },
   "file_extension": ".py",
   "mimetype": "text/x-python",
   "name": "python",
   "nbconvert_exporter": "python",
   "pygments_lexer": "ipython3",
   "version": "3.11.11"
  }
 },
 "nbformat": 4,
 "nbformat_minor": 2
}
