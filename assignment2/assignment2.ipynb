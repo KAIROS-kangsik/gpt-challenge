{
 "cells": [
  {
   "cell_type": "code",
   "execution_count": 52,
   "metadata": {},
   "outputs": [
    {
     "name": "stdout",
     "output_type": "stream",
     "text": [
      "input_variables=['answer', 'movie'] template='영화: {movie}\\n{answer}'\n"
     ]
    }
   ],
   "source": [
    "from langchain.prompts import PromptTemplate\n",
    "from langchain.chat_models import ChatOpenAI\n",
    "from langchain.prompts.few_shot import FewShotPromptTemplate\n",
    "from langchain.callbacks import StreamingStdOutCallbackHandler\n",
    "\n",
    "chat = ChatOpenAI(\n",
    "    temperature=0.9,\n",
    "    streaming=True,\n",
    "    callbacks=[StreamingStdOutCallbackHandler()]\n",
    ")\n",
    "\n",
    "examples = [\n",
    "    {\n",
    "        \"movie\": \"인셉션\",\n",
    "        \"answer\": \"\"\"\n",
    "알려드릴 내용입니다:\n",
    "감독: 크리스토퍼 놀란\n",
    "주요 출연진: 레오나르도 디카프리오, 조셉 고든 레빗, 엘렌 페이지\n",
    "제작비: 1억 6천만 달러\n",
    "흥행 수익: 8억 2,990만 달러\n",
    "장르: SF, 스릴러\n",
    "시놉시스: 꿈 공유 기술을 이용해 기업 비밀을 훔치는 전문 도둑이 CEO의 마음속에 생각을 심어야 하는 특별한 임무를 맡게 됩니다.\n",
    "\"\"\"\n",
    "    },\n",
    "    {\n",
    "        \"movie\": \"대부\",\n",
    "        \"answer\": \"\"\"\n",
    "알려드릴 내용입니다:\n",
    "감독: 프랜시스 포드 코폴라\n",
    "주요 출연진: 말론 브란도, 알 파치노, 제임스 칸\n",
    "제작비: 600만 달러\n",
    "흥행 수익: 2억 4,600만-2억 8,700만 달러\n",
    "장르: 범죄, 드라마\n",
    "시놉시스: 조직 범죄 왕국의 늙어가는 가부장이 마지못해 아들에게 그의 비밀스러운 제국의 통제권을 이양합니다.\n",
    "\"\"\"\n",
    "    },\n",
    "    {\n",
    "        \"movie\": \"기생충\",\n",
    "        \"answer\": \"\"\"\n",
    "알려드릴 내용입니다:\n",
    "감독: 봉준호\n",
    "주요 출연진: 송강호, 이선균, 조여정\n",
    "제작비: 1,100만 달러\n",
    "흥행 수익: 2억 6,310만 달러\n",
    "장르: 스릴러, 드라마\n",
    "시놉시스: 탐욕과 계급 차별이 부유한 박 가족과 가난한 기 가족 사이의 새롭게 형성된 공생 관계를 위협합니다.\n",
    "\"\"\"\n",
    "    },\n",
    "    {\n",
    "        \"movie\": \"타이타닉\",\n",
    "        \"answer\": \"\"\"\n",
    "알려드릴 내용입니다:\n",
    "감독: 제임스 카메론\n",
    "주요 출연진: 레오나르도 디카프리오, 케이트 윈슬렛, 빌리 제인\n",
    "제작비: 2억 달러\n",
    "흥행 수익: 21억 9,500만 달러\n",
    "장르: 로맨스, 드라마\n",
    "시놉시스: 17세 귀족 소녀가 호화로운 타이타닉호에서 가난하지만 순수한 예술가와 사랑에 빠지게 됩니다.\n",
    "\"\"\"\n",
    "    },\n",
    "    {\n",
    "        \"movie\": \"매트릭스\",\n",
    "        \"answer\": \"\"\"\n",
    "알려드릴 내용입니다:\n",
    "감독: 워쇼스키 자매\n",
    "주요 출연진: 키아누 리브스, 로렌스 피시번, 캐리 앤 모스\n",
    "제작비: 6,300만 달러\n",
    "흥행 수익: 4억 6,720만 달러\n",
    "장르: SF, 액션\n",
    "시놉시스: 한 컴퓨터 해커가 신비로운 반군들을 통해 자신이 살고 있는 세계의 진실과 그가 맡은 역할에 대해 알게 됩니다.\n",
    "\"\"\"\n",
    "    }\n",
    "]\n",
    "\n",
    "\n",
    "example_prompt = PromptTemplate(\n",
    "    input_variables=[\"movie\"],\n",
    "    template=\"영화: {movie}\\n{answer}\"\n",
    ")\n",
    "\n",
    "print(example_prompt)\n",
    "\n"
   ]
  },
  {
   "cell_type": "code",
   "execution_count": 53,
   "metadata": {},
   "outputs": [
    {
     "name": "stdout",
     "output_type": "stream",
     "text": [
      "input_variables=['movie'] examples=[{'movie': '인셉션', 'answer': '\\n알려드릴 내용입니다:\\n감독: 크리스토퍼 놀란\\n주요 출연진: 레오나르도 디카프리오, 조셉 고든 레빗, 엘렌 페이지\\n제작비: 1억 6천만 달러\\n흥행 수익: 8억 2,990만 달러\\n장르: SF, 스릴러\\n시놉시스: 꿈 공유 기술을 이용해 기업 비밀을 훔치는 전문 도둑이 CEO의 마음속에 생각을 심어야 하는 특별한 임무를 맡게 됩니다.\\n'}, {'movie': '대부', 'answer': '\\n알려드릴 내용입니다:\\n감독: 프랜시스 포드 코폴라\\n주요 출연진: 말론 브란도, 알 파치노, 제임스 칸\\n제작비: 600만 달러\\n흥행 수익: 2억 4,600만-2억 8,700만 달러\\n장르: 범죄, 드라마\\n시놉시스: 조직 범죄 왕국의 늙어가는 가부장이 마지못해 아들에게 그의 비밀스러운 제국의 통제권을 이양합니다.\\n'}, {'movie': '기생충', 'answer': '\\n알려드릴 내용입니다:\\n감독: 봉준호\\n주요 출연진: 송강호, 이선균, 조여정\\n제작비: 1,100만 달러\\n흥행 수익: 2억 6,310만 달러\\n장르: 스릴러, 드라마\\n시놉시스: 탐욕과 계급 차별이 부유한 박 가족과 가난한 기 가족 사이의 새롭게 형성된 공생 관계를 위협합니다.\\n'}, {'movie': '타이타닉', 'answer': '\\n알려드릴 내용입니다:\\n감독: 제임스 카메론\\n주요 출연진: 레오나르도 디카프리오, 케이트 윈슬렛, 빌리 제인\\n제작비: 2억 달러\\n흥행 수익: 21억 9,500만 달러\\n장르: 로맨스, 드라마\\n시놉시스: 17세 귀족 소녀가 호화로운 타이타닉호에서 가난하지만 순수한 예술가와 사랑에 빠지게 됩니다.\\n'}, {'movie': '매트릭스', 'answer': '\\n알려드릴 내용입니다:\\n감독: 워쇼스키 자매\\n주요 출연진: 키아누 리브스, 로렌스 피시번, 캐리 앤 모스\\n제작비: 6,300만 달러\\n흥행 수익: 4억 6,720만 달러\\n장르: SF, 액션\\n시놉시스: 한 컴퓨터 해커가 신비로운 반군들을 통해 자신이 살고 있는 세계의 진실과 그가 맡은 역할에 대해 알게 됩니다.\\n'}] example_prompt=PromptTemplate(input_variables=['answer', 'movie'], template='영화: {movie}\\n{answer}') suffix='Human:{movie}'\n"
     ]
    }
   ],
   "source": [
    "fewshot_prompt = FewShotPromptTemplate(\n",
    "    example_prompt=example_prompt,\n",
    "    examples=examples,\n",
    "    suffix=\"Human:{movie}\",\n",
    "    input_variables=[\"movie\"]\n",
    ")\n",
    "\n",
    "print(fewshot_prompt)"
   ]
  },
  {
   "cell_type": "code",
   "execution_count": 67,
   "metadata": {},
   "outputs": [
    {
     "name": "stdout",
     "output_type": "stream",
     "text": [
      "알려드릴 내용입니다:\n",
      "감독: 추창민\n",
      "주요 출연진: 이병헌, 한효주, 김인권\n",
      "제작비: 약 1,000억 원\n",
      "흥행 수익: 5,600만 명 이상의 관객 동원\n",
      "장르: 사극, 드라마\n",
      "시놉시스: 조선시대 광해군의 삶을 바탕으로 한 허구역사 드라마로, 실제 역사와는 다소 상이한 부분이 있습니다. 현실적인 사건과 광해군의 인물적 특성을 반영한 작품이며, 가상의 사건과 캐릭터를 더해 로맨스와 스릴을 더했습니다.\n",
      "\n",
      "죄와 벌\n",
      "\n",
      "감독: 김용화\n",
      "주요 출연진: 하정우, 차태현, 주지훈\n",
      "제작비: 2,400억 원\n",
      "흥행 수익: 1조 1,103억 원\n",
      "장르: 판타지, 드라마\n",
      "시놉시스: 죽은 영혼들을 심판하고 천국이나 지옥으로 보내는 신의 사업을 소재로 한 이야기. 처음으로 지옥에서 영혼이 탈출한 사건이 발생하면서 상상도 못한 사건들이 벌어진다."
     ]
    },
    {
     "data": {
      "text/plain": [
       "AIMessageChunk(content='죄와 벌\\n\\n감독: 김용화\\n주요 출연진: 하정우, 차태현, 주지훈\\n제작비: 2,400억 원\\n흥행 수익: 1조 1,103억 원\\n장르: 판타지, 드라마\\n시놉시스: 죽은 영혼들을 심판하고 천국이나 지옥으로 보내는 신의 사업을 소재로 한 이야기. 처음으로 지옥에서 영혼이 탈출한 사건이 발생하면서 상상도 못한 사건들이 벌어진다.')"
      ]
     },
     "execution_count": 67,
     "metadata": {},
     "output_type": "execute_result"
    }
   ],
   "source": [
    "chain = fewshot_prompt | chat\n",
    "\n",
    "chain.invoke({\n",
    "    \"movie\": \"광해:왕이된남자\"\n",
    "})\n",
    "print(\"\\n\")\n",
    "\n",
    "chain.invoke({\n",
    "    \"movie\": \"신과함꼐\"\n",
    "})\n"
   ]
  }
 ],
 "metadata": {
  "kernelspec": {
   "display_name": "env",
   "language": "python",
   "name": "python3"
  },
  "language_info": {
   "codemirror_mode": {
    "name": "ipython",
    "version": 3
   },
   "file_extension": ".py",
   "mimetype": "text/x-python",
   "name": "python",
   "nbconvert_exporter": "python",
   "pygments_lexer": "ipython3",
   "version": "3.11.11"
  }
 },
 "nbformat": 4,
 "nbformat_minor": 2
}
